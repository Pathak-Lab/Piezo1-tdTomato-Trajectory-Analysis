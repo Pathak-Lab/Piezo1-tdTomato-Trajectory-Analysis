{
 "cells": [
  {
   "cell_type": "markdown",
   "id": "3f5b508a-db09-47e3-8d2e-717e6e215cfb",
   "metadata": {},
   "source": [
    "# Kepten Estimates\n",
    "\n",
    "Estimate the mean and standard deviation of a \"anomalous exponent\" (TAMSD vs lag power-law exponent) distribution in an ensemble of heterogeneous diffusers using the methodology proposed by Kepten et. al (PRE 2013 10.1103/PhysRevE.87.052713)."
   ]
  },
  {
   "cell_type": "code",
   "execution_count": 1,
   "id": "0a4c2ea0-339e-4944-9d51-8ebeba465e7f",
   "metadata": {},
   "outputs": [],
   "source": [
    "#requires getKepten to generate power-law exponent (also called \"anomalous exponent\") mean and sd values\n",
    "source('getKepten.R')\n",
    "options(jupyter.plot_scale=1)"
   ]
  },
  {
   "cell_type": "markdown",
   "id": "4c1c0a53-b33b-4276-8236-4c8d96d5cb3f",
   "metadata": {},
   "source": [
    "## Input parameters \n",
    "- Static noise estimate (e.g. localization error)\n",
    "- A vector of \"treatment\" labels\n",
    "- Vectors with TAMSD file names (same length as treatment labels vector) as generated with `ImmobileMobile_generate.ipynb`\n",
    "- Lag values to be used in the TAMSD vs. lag power-law fit  "
   ]
  },
  {
   "cell_type": "code",
   "execution_count": 2,
   "id": "b3d8344c-0f6b-4525-a480-09d1d314cef2",
   "metadata": {
    "tags": []
   },
   "outputs": [],
   "source": [
    "#lag values\n",
    "mylags<-1:20"
   ]
  },
  {
   "cell_type": "code",
   "execution_count": 3,
   "id": "3e9f34c3-f8d9-4df5-be87-425121601dec",
   "metadata": {
    "tags": []
   },
   "outputs": [],
   "source": [
    "#The localization error estimate is the most likely value of the power-law coefficient parameter \n",
    "#in the fixed cell \"small alpha\" population (see Ly et al. Methods section for details)\n",
    "noise<-0.33"
   ]
  },
  {
   "cell_type": "code",
   "execution_count": 4,
   "id": "a6a2d150-57bf-4728-a641-914d561d5182",
   "metadata": {
    "tags": []
   },
   "outputs": [],
   "source": [
    "#treatment labels\n",
    "myTreatments<-c('untreated','mbcd')"
   ]
  },
  {
   "cell_type": "code",
   "execution_count": 5,
   "id": "03edd6b7-410e-470e-9c1f-01ab18d103ea",
   "metadata": {},
   "outputs": [],
   "source": [
    "#Trajectories TAMSD file names (one per treatement)\n",
    "TAMSDfiles<-c('../examples/untreated/untreated-20-TAMSD-200.rds','../examples/mbcd/mbcd-20-TAMSD-200.rds')"
   ]
  },
  {
   "cell_type": "markdown",
   "id": "b3691b6f-7108-4942-9ff9-1580df8f89e1",
   "metadata": {},
   "source": [
    "Perform calculations, generate assesment plots"
   ]
  },
  {
   "cell_type": "code",
   "execution_count": 6,
   "id": "059abdd9-ca85-4529-b142-09fe407cf72a",
   "metadata": {
    "tags": []
   },
   "outputs": [],
   "source": [
    "mypars<-vector('list',length(TAMSDfiles))\n",
    "mynums<-vector('numeric',length(TAMSDfiles))\n",
    "for(i in seq_along(TAMSDfiles)) {\n",
    "    #read file transform to a matrix with trajectories columnwise\n",
    "    myMSD<-do.call(cbind,readRDS(TAMSDfiles[i]))\n",
    "    #compute estimates and generate plots for assesment\n",
    "    mypars[[i]]<- getKepten(myMSD,mylags,noise,\n",
    "                            paste0(myTreatments[i],'_kepten'))\n",
    "    mynums[i]<-ncol(myMSD)\n",
    "        }\n",
    "                 "
   ]
  },
  {
   "cell_type": "markdown",
   "id": "7a93a15d-6328-47c2-a76e-0407a572c97e",
   "metadata": {},
   "source": [
    "Save results as CSV table (including total number of trajectories used) A similar table was used to generate Ly et al. Figure 7C."
   ]
  },
  {
   "cell_type": "code",
   "execution_count": 7,
   "id": "b63ba9a8-a895-4332-93ff-8094fd1a735b",
   "metadata": {
    "tags": []
   },
   "outputs": [],
   "source": [
    "res<-do.call(rbind,mypars)\n",
    "write.table(cbind(myTreatments,res,mynums),\n",
    "          file=paste0('kepten_mu_sigma_untreated_mbcd.csv'),\n",
    "            sep=',',\n",
    "          row.names=F,\n",
    "          col.names=c('treatment','meanAlpha','sdAlpha','ntraj')) \n",
    "                   "
   ]
  }
 ],
 "metadata": {
  "kernelspec": {
   "display_name": "R",
   "language": "R",
   "name": "ir"
  },
  "language_info": {
   "codemirror_mode": "r",
   "file_extension": ".r",
   "mimetype": "text/x-r-source",
   "name": "R",
   "pygments_lexer": "r",
   "version": "4.3.1"
  }
 },
 "nbformat": 4,
 "nbformat_minor": 5
}
