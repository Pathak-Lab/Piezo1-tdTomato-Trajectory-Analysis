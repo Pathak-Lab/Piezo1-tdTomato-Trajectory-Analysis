{
 "cells": [
  {
   "cell_type": "markdown",
   "id": "1374f344-3ca4-41a3-b217-604fc4d0d5e1",
   "metadata": {},
   "source": [
    "# Compute Mobile Odds Ratio\n",
    "\n",
    "Assess treatment effect on mobile proportion using mobile:immobile odds ratio (e.g. Ly et al. Figure 5) "
   ]
  },
  {
   "cell_type": "code",
   "execution_count": 1,
   "id": "1269380b-999f-4036-8097-85c72328da7e",
   "metadata": {
    "tags": []
   },
   "outputs": [],
   "source": [
    "#identify treatments and control labels:\n",
    "myTreatments<-c('mbcd')\n",
    "myControl<-'untreated'"
   ]
  },
  {
   "cell_type": "code",
   "execution_count": 2,
   "id": "bd6c09e4-3266-40f2-be2c-5633b8403874",
   "metadata": {
    "tags": []
   },
   "outputs": [],
   "source": [
    "#load class/treatment data frame\n",
    "df<-readRDS('../generate_ImmobileMobile/mbcd-untreated-exampleDF.rds')"
   ]
  },
  {
   "cell_type": "markdown",
   "id": "729c2764-7fdb-4b20-966a-afea574da25a",
   "metadata": {},
   "source": [
    "As a first example, we compute odds ratio for the mbcd/untreated single data sets. The R implementation of Fisher's exact test provides the odds ratio estimate and corresonding CI."
   ]
  },
  {
   "cell_type": "code",
   "execution_count": 3,
   "id": "f4a11b85-189c-4a3e-9016-ea2cc7c6a196",
   "metadata": {},
   "outputs": [
    {
     "name": "stdout",
     "output_type": "stream",
     "text": [
      "[1] \"mbcd\"\n",
      "\n",
      "\tFisher's Exact Test for Count Data\n",
      "\n",
      "data:  mytable\n",
      "p-value = 5.896e-06\n",
      "alternative hypothesis: true odds ratio is not equal to 1\n",
      "95 percent confidence interval:\n",
      " 1.159443 1.460315\n",
      "sample estimates:\n",
      "odds ratio \n",
      "  1.301145 \n",
      "\n"
     ]
    }
   ],
   "source": [
    "myFish<-list()\n",
    "for(i in seq_along(myTreatments)) {\n",
    "    #prepare two-dimensional contingency table for each treatment\n",
    "    mytreats<-c(myControl,myTreatments[i])\n",
    "    dfSel<-df[df$treatment%in%mytreats,]\n",
    "    dfSel$treatment<-factor(dfSel$treatment,levels = mytreats)\n",
    "    dfSel$class<-factor(dfSel$class,levels=c('immobile','mobile'))\n",
    "    mytable<-table(dfSel$class,dfSel$treatment)\n",
    "    \n",
    "    #run Fisher's exact test\n",
    "    ft<-fisher.test(mytable)\n",
    "    print(myTreatments[i])\n",
    "    print(ft)\n",
    "    \n",
    "    #gather results in a data frame including the odds ratio estimate and the min/max values of the CI\n",
    "    myFish[[i]]<-data.frame(odr=ft$estimate,clo=ft$conf.int[1],chi=ft$conf.int[2],\n",
    "                            treatment=myTreatments[i])\n",
    "    }"
   ]
  },
  {
   "cell_type": "code",
   "execution_count": 4,
   "id": "d9ae78e6-91c2-453f-ab54-376db390e9e1",
   "metadata": {},
   "outputs": [
    {
     "data": {
      "text/html": [
       "<table class=\"dataframe\">\n",
       "<caption>A data.frame: 1 × 4</caption>\n",
       "<thead>\n",
       "\t<tr><th></th><th scope=col>odr</th><th scope=col>clo</th><th scope=col>chi</th><th scope=col>treatment</th></tr>\n",
       "\t<tr><th></th><th scope=col>&lt;dbl&gt;</th><th scope=col>&lt;dbl&gt;</th><th scope=col>&lt;dbl&gt;</th><th scope=col>&lt;chr&gt;</th></tr>\n",
       "</thead>\n",
       "<tbody>\n",
       "\t<tr><th scope=row>odds ratio</th><td>1.301145</td><td>1.159443</td><td>1.460315</td><td>mbcd</td></tr>\n",
       "</tbody>\n",
       "</table>\n"
      ],
      "text/latex": [
       "A data.frame: 1 × 4\n",
       "\\begin{tabular}{r|llll}\n",
       "  & odr & clo & chi & treatment\\\\\n",
       "  & <dbl> & <dbl> & <dbl> & <chr>\\\\\n",
       "\\hline\n",
       "\todds ratio & 1.301145 & 1.159443 & 1.460315 & mbcd\\\\\n",
       "\\end{tabular}\n"
      ],
      "text/markdown": [
       "\n",
       "A data.frame: 1 × 4\n",
       "\n",
       "| <!--/--> | odr &lt;dbl&gt; | clo &lt;dbl&gt; | chi &lt;dbl&gt; | treatment &lt;chr&gt; |\n",
       "|---|---|---|---|---|\n",
       "| odds ratio | 1.301145 | 1.159443 | 1.460315 | mbcd |\n",
       "\n"
      ],
      "text/plain": [
       "           odr      clo      chi      treatment\n",
       "odds ratio 1.301145 1.159443 1.460315 mbcd     "
      ]
     },
     "metadata": {},
     "output_type": "display_data"
    }
   ],
   "source": [
    "#results from different treatments can be collected in a data frame\n",
    "dfOR<-do.call(rbind,myFish)\n",
    "dfOR"
   ]
  },
  {
   "cell_type": "markdown",
   "id": "6314b56a-2358-41b5-ba93-8b6cb2887e28",
   "metadata": {},
   "source": [
    "In Ly et al. Figure 5, the mobile/immobile proportions for a given treatment were gathered from several experimental sessions. We stratified the mobile/immobile counts by experimental session and used the R implementation of the Cochran-Mantel-Haenszel test to generate a common odds ratio and corresponding CI.\n",
    "\n",
    "Here, for illustration purposes, we add a column to the treatment/class data frame identifying the \"experiment number\", then duplicate the mbcd/mobile counts and assign a different \"experiment number\" to the copy."
   ]
  },
  {
   "cell_type": "code",
   "execution_count": 5,
   "id": "e253c787-a114-458c-8aa2-c627f15475ed",
   "metadata": {},
   "outputs": [],
   "source": [
    "df$expnum<-\"260\"\n",
    "\n",
    "dfbis<-df\n",
    "\n",
    "dfbis$expnum<-'99'\n",
    "\n",
    "dfmock<-rbind(df,dfbis)"
   ]
  },
  {
   "cell_type": "code",
   "execution_count": 6,
   "id": "77bf5e5a-1c63-45dd-b86a-4b6e16b20830",
   "metadata": {},
   "outputs": [
    {
     "data": {
      "text/plain": [
       ", ,  = 260\n",
       "\n",
       "           \n",
       "            immobile mobile\n",
       "  mbcd           819   2336\n",
       "  untreated      849   1861\n",
       "\n",
       ", ,  = 99\n",
       "\n",
       "           \n",
       "            immobile mobile\n",
       "  mbcd           819   2336\n",
       "  untreated      849   1861\n"
      ]
     },
     "metadata": {},
     "output_type": "display_data"
    }
   ],
   "source": [
    "table(dfmock$treatment,dfmock$class,dfmock$expnum)"
   ]
  },
  {
   "cell_type": "code",
   "execution_count": 7,
   "id": "3a3ca9af-de2d-49d1-b837-5942b5d71a6c",
   "metadata": {},
   "outputs": [],
   "source": [
    "#In general, each treatment will have a different set of \"experiment numbers\", \n",
    "#we use this list to extract the correct ones in each case\n",
    "myExpList<-list(mbcd=c('260','99'))"
   ]
  },
  {
   "cell_type": "code",
   "execution_count": 8,
   "id": "6c42a83a-1899-4cb5-b64b-f6f251d5d32c",
   "metadata": {},
   "outputs": [
    {
     "name": "stdout",
     "output_type": "stream",
     "text": [
      "[1] \"mbcd\"\n",
      "\n",
      "\tMantel-Haenszel chi-squared test with continuity correction\n",
      "\n",
      "data:  mytable\n",
      "Mantel-Haenszel X-squared = 41.036, df = 1, p-value = 1.494e-10\n",
      "alternative hypothesis: true common odds ratio is not equal to 1\n",
      "95 percent confidence interval:\n",
      " 1.200713 1.410137\n",
      "sample estimates:\n",
      "common odds ratio \n",
      "         1.301219 \n",
      "\n"
     ]
    }
   ],
   "source": [
    "myMant<-list()\n",
    "for(i in seq_along(myTreatments)) {\n",
    "    #prepare stratified contingency table\n",
    "    mytreats<-c(myControl,myTreatments[i])\n",
    "    mydf<-dfmock[dfmock$treatment%in%mytreats\n",
    "                & dfmock$expnum%in%myExpList[[myTreatments[i]]],]\n",
    "    mydf$treatment<-factor(mydf$treatment,levels = mytreats)\n",
    "    mytable<-(table(mydf$treatment,mydf$class,mydf$expnum)*1.0)\n",
    "\n",
    "    #run Mantel-Haenszel test\n",
    "    mtb<-mantelhaen.test(mytable)\n",
    "    print(myTreatments[i])\n",
    "    print(mtb)\n",
    "\n",
    "    #gather results in a data frame including the odds ratio estimate and the min/max values of the CI\n",
    "    myMant[[i]]<-data.frame(odr=mtb$estimate,clo=mtb$conf.int[1],chi=mtb$conf.int[2],\n",
    "                            treatment=myTreatments[i])\n",
    "    }\n",
    "#collect results from different treatments into a single data frame\n",
    "dfOR<-do.call(rbind,myMant)"
   ]
  },
  {
   "cell_type": "code",
   "execution_count": 9,
   "id": "3f2c1363-fe6e-4adb-991f-2ccc2534912d",
   "metadata": {},
   "outputs": [
    {
     "data": {
      "text/html": [
       "<table class=\"dataframe\">\n",
       "<caption>A data.frame: 1 × 4</caption>\n",
       "<thead>\n",
       "\t<tr><th></th><th scope=col>odr</th><th scope=col>clo</th><th scope=col>chi</th><th scope=col>treatment</th></tr>\n",
       "\t<tr><th></th><th scope=col>&lt;dbl&gt;</th><th scope=col>&lt;dbl&gt;</th><th scope=col>&lt;dbl&gt;</th><th scope=col>&lt;chr&gt;</th></tr>\n",
       "</thead>\n",
       "<tbody>\n",
       "\t<tr><th scope=row>common odds ratio</th><td>1.301219</td><td>1.200713</td><td>1.410137</td><td>mbcd</td></tr>\n",
       "</tbody>\n",
       "</table>\n"
      ],
      "text/latex": [
       "A data.frame: 1 × 4\n",
       "\\begin{tabular}{r|llll}\n",
       "  & odr & clo & chi & treatment\\\\\n",
       "  & <dbl> & <dbl> & <dbl> & <chr>\\\\\n",
       "\\hline\n",
       "\tcommon odds ratio & 1.301219 & 1.200713 & 1.410137 & mbcd\\\\\n",
       "\\end{tabular}\n"
      ],
      "text/markdown": [
       "\n",
       "A data.frame: 1 × 4\n",
       "\n",
       "| <!--/--> | odr &lt;dbl&gt; | clo &lt;dbl&gt; | chi &lt;dbl&gt; | treatment &lt;chr&gt; |\n",
       "|---|---|---|---|---|\n",
       "| common odds ratio | 1.301219 | 1.200713 | 1.410137 | mbcd |\n",
       "\n"
      ],
      "text/plain": [
       "                  odr      clo      chi      treatment\n",
       "common odds ratio 1.301219 1.200713 1.410137 mbcd     "
      ]
     },
     "metadata": {},
     "output_type": "display_data"
    }
   ],
   "source": [
    "dfOR"
   ]
  }
 ],
 "metadata": {
  "kernelspec": {
   "display_name": "R",
   "language": "R",
   "name": "ir"
  },
  "language_info": {
   "codemirror_mode": "r",
   "file_extension": ".r",
   "mimetype": "text/x-r-source",
   "name": "R",
   "pygments_lexer": "r",
   "version": "4.3.1"
  }
 },
 "nbformat": 4,
 "nbformat_minor": 5
}
